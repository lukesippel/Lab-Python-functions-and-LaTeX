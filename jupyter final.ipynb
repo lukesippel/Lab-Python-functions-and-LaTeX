{
 "cells": [
  {
   "cell_type": "code",
   "execution_count": 9,
   "metadata": {},
   "outputs": [
    {
     "name": "stdout",
     "output_type": "stream",
     "text": [
      "errQ = 0.15\n"
     ]
    }
   ],
   "source": [
    "import numpy as np\n",
    "\n",
    "def Rule1(c,errA):\n",
    "    errQ = (abs(c)*errA)\n",
    "    return errQ\n",
    "    \n",
    "c = 5\n",
    "errA = .03\n",
    "\n",
    "errQ = Rule1(c,errA)\n",
    "\n",
    "print(\"errQ =\", errQ)\n",
    "    "
   ]
  },
  {
   "cell_type": "code",
   "execution_count": 10,
   "metadata": {},
   "outputs": [
    {
     "name": "stdout",
     "output_type": "stream",
     "text": [
      "errQ = 0.8999999999999999\n"
     ]
    }
   ],
   "source": [
    "def Rule2(c,m,A,errA):\n",
    "    errQ = abs(c*m*A**(m-1))*errA\n",
    "    return errQ\n",
    "\n",
    "c = 1\n",
    "m = 2\n",
    "A = 3\n",
    "errA = .15\n",
    "\n",
    "errQ = Rule2(c,m,A,errA)\n",
    "\n",
    "print(\"errQ =\", errQ)"
   ]
  },
  {
   "cell_type": "code",
   "execution_count": 12,
   "metadata": {},
   "outputs": [
    {
     "name": "stdout",
     "output_type": "stream",
     "text": [
      "errQ = 0.5099019513592785\n"
     ]
    }
   ],
   "source": [
    "def Rule3(errA, errB):\n",
    "    errQ = np.sqrt(errA**2+errB**2)\n",
    "    return errQ\n",
    "\n",
    "errA = .5\n",
    "errB = .1\n",
    "\n",
    "errQ = Rule3(errA, errB)\n",
    "\n",
    "print(\"errQ =\", errQ)"
   ]
  },
  {
   "cell_type": "code",
   "execution_count": 13,
   "metadata": {},
   "outputs": [
    {
     "name": "stdout",
     "output_type": "stream",
     "text": [
      "errQ = 1.4142135623730951\n"
     ]
    }
   ],
   "source": [
    "def Rule4_2(Q,A,m,errA,B,n,errB):\n",
    "    errQ = Q*np.sqrt((m*errA/A)**2+(n*errB/B)**2)\n",
    "    return errQ\n",
    "\n",
    "Q = 1\n",
    "\n",
    "A = 1\n",
    "m = 1\n",
    "errA = 1\n",
    "\n",
    "B = 1\n",
    "n = 1\n",
    "errB = 1\n",
    "\n",
    "errQ = Rule4_2(Q,A,m,errA,B,n,errB)\n",
    "\n",
    "print('errQ =', errQ)"
   ]
  },
  {
   "cell_type": "code",
   "execution_count": 15,
   "metadata": {},
   "outputs": [
    {
     "name": "stdout",
     "output_type": "stream",
     "text": [
      "errQ = 1.7320508075688772\n"
     ]
    }
   ],
   "source": [
    "def Rule4_3(Q,A,m,errA,B,n,errB,C,o,errC):\n",
    "    errQ = Q*np.sqrt((m*errA/A)**2+(n*errB/B)**2+(o*errC/C)**2)\n",
    "    return errQ\n",
    "\n",
    "Q = 1\n",
    "\n",
    "A = 1\n",
    "m = 1\n",
    "errA = 1\n",
    "\n",
    "B = 1\n",
    "n = 1\n",
    "errB = 1\n",
    "\n",
    "C = 1\n",
    "o = 1\n",
    "errC = 1\n",
    "\n",
    "errQ = Rule4_3(Q,A,m,errA,B,n,errB,C,o,errC)\n",
    "\n",
    "print('errQ =', errQ)"
   ]
  },
  {
   "cell_type": "code",
   "execution_count": null,
   "metadata": {},
   "outputs": [],
   "source": []
  }
 ],
 "metadata": {
  "kernelspec": {
   "display_name": "Python 3",
   "language": "python",
   "name": "python3"
  },
  "language_info": {
   "codemirror_mode": {
    "name": "ipython",
    "version": 3
   },
   "file_extension": ".py",
   "mimetype": "text/x-python",
   "name": "python",
   "nbconvert_exporter": "python",
   "pygments_lexer": "ipython3",
   "version": "3.8.3"
  }
 },
 "nbformat": 4,
 "nbformat_minor": 4
}
