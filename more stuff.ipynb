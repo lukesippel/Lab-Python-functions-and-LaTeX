{
 "cells": [
  {
   "cell_type": "code",
   "execution_count": 7,
   "metadata": {},
   "outputs": [
    {
     "name": "stdout",
     "output_type": "stream",
     "text": [
      "errQ = 2.3865817646556438\n"
     ]
    }
   ],
   "source": [
    "# uncertainty in EFc from circular motion lab\n",
    "\n",
    "import numpy as np\n",
    "\n",
    "def Rule4_2(Q,A,m,errA,B,n,errB):\n",
    "    errQ = Q*np.sqrt((m*errA/A)**2+(n*errB/B)**2)\n",
    "    return errQ\n",
    "\n",
    "Q = 78.3\n",
    "\n",
    "A = .2083\n",
    "m = 1\n",
    "errA = .0001\n",
    "\n",
    "B = .105\n",
    "n = -1\n",
    "errB = .0032\n",
    "\n",
    "errQ = Rule4_2(Q,A,m,errA,B,n,errB)\n",
    "\n",
    "print('errQ =', errQ)"
   ]
  },
  {
   "cell_type": "markdown",
   "metadata": {},
   "source": [
    "this result is the same as the one I found by hand. Everything works!"
   ]
  },
  {
   "cell_type": "code",
   "execution_count": 12,
   "metadata": {},
   "outputs": [
    {
     "name": "stdout",
     "output_type": "stream",
     "text": [
      "ave_x = 1.1166666666666667\n",
      "std_x = 0.17950549357115014\n"
     ]
    }
   ],
   "source": [
    "x = np.array([ 1.1, 1.3, 1.4, 0.9, 0.95, 1.05])\n",
    "\n",
    "ave_x = np.average(x)\n",
    "\n",
    "std_x = np.std(x)\n",
    "\n",
    "print(\"ave_x =\", ave_x)\n",
    "print(\"std_x =\", std_x)"
   ]
  },
  {
   "cell_type": "markdown",
   "metadata": {},
   "source": [
    "the average of x is 1.12, the standard deveation of x is .180"
   ]
  },
  {
   "cell_type": "markdown",
   "metadata": {},
   "source": [
    "\n",
    "$\\delta Q = \\sqrt{(\\delta A)^2 +(\\delta B)^2}$"
   ]
  },
  {
   "cell_type": "markdown",
   "metadata": {},
   "source": [
    "\n",
    "\n",
    "$\\delta \\Sigma F_{c} = \\Sigma F_{c} * \\sqrt{(\\frac{\\delta m}{m})^2+(\\frac{-\\delta slope}{slope})^2}$"
   ]
  },
  {
   "cell_type": "code",
   "execution_count": null,
   "metadata": {},
   "outputs": [],
   "source": []
  }
 ],
 "metadata": {
  "kernelspec": {
   "display_name": "Python 3",
   "language": "python",
   "name": "python3"
  },
  "language_info": {
   "codemirror_mode": {
    "name": "ipython",
    "version": 3
   },
   "file_extension": ".py",
   "mimetype": "text/x-python",
   "name": "python",
   "nbconvert_exporter": "python",
   "pygments_lexer": "ipython3",
   "version": "3.8.3"
  }
 },
 "nbformat": 4,
 "nbformat_minor": 4
}
